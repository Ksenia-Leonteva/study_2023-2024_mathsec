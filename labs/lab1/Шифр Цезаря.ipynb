{
 "cells": [
  {
   "cell_type": "code",
   "execution_count": 2,
   "metadata": {},
   "outputs": [],
   "source": [
    "import string"
   ]
  },
  {
   "cell_type": "code",
   "execution_count": 6,
   "metadata": {},
   "outputs": [
    {
     "name": "stdout",
     "output_type": "stream",
     "text": [
      "Введите текст без пробелов: abcdefg\n",
      "Введите ключ: 3\n"
     ]
    }
   ],
   "source": [
    "phrase = input('Введите текст без пробелов: ')\n",
    "phrase = list(phrase)\n",
    "\n",
    "k = input('Введите ключ: ')\n",
    "k = int(k)"
   ]
  },
  {
   "cell_type": "code",
   "execution_count": 7,
   "metadata": {},
   "outputs": [],
   "source": [
    "aphabet = string.ascii_lowercase\n",
    "\n",
    "new_aphabet = list()\n",
    "for i in range(len(aphabet)):\n",
    "    new_aphabet.append(aphabet[(i+k)%26])\n",
    "    \n",
    "encrypted_phrase = list()\n",
    "for j in range(len(phrase)):\n",
    "    encrypted_phrase.append(new_aphabet[aphabet.index(phrase[j])])"
   ]
  },
  {
   "cell_type": "code",
   "execution_count": 8,
   "metadata": {},
   "outputs": [
    {
     "name": "stdout",
     "output_type": "stream",
     "text": [
      "defghij\n"
     ]
    }
   ],
   "source": [
    "print(''.join(encrypted_phrase))"
   ]
  },
  {
   "cell_type": "code",
   "execution_count": null,
   "metadata": {},
   "outputs": [],
   "source": []
  }
 ],
 "metadata": {
  "kernelspec": {
   "display_name": "Python 3",
   "language": "python",
   "name": "python3"
  },
  "language_info": {
   "codemirror_mode": {
    "name": "ipython",
    "version": 3
   },
   "file_extension": ".py",
   "mimetype": "text/x-python",
   "name": "python",
   "nbconvert_exporter": "python",
   "pygments_lexer": "ipython3",
   "version": "3.8.5"
  }
 },
 "nbformat": 4,
 "nbformat_minor": 4
}
