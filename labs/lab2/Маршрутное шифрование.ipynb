{
 "cells": [
  {
   "cell_type": "code",
   "execution_count": 1,
   "metadata": {},
   "outputs": [],
   "source": [
    "phrase = 'нельзя недооценивать противника'\n",
    "key = 'пароль'\n",
    "phrase = list(phrase.replace(\" \",\"\"))\n",
    "key = list(key)"
   ]
  },
  {
   "cell_type": "code",
   "execution_count": 2,
   "metadata": {},
   "outputs": [
    {
     "data": {
      "text/plain": [
       "[['н', 'е', 'л', 'ь', 'з', 'я'],\n",
       " ['н', 'е', 'д', 'о', 'о', 'ц'],\n",
       " ['е', 'н', 'и', 'в', 'а', 'т'],\n",
       " ['ь', 'п', 'р', 'о', 'т', 'и'],\n",
       " ['в', 'н', 'и', 'к', 'а', 'a']]"
      ]
     },
     "execution_count": 2,
     "metadata": {},
     "output_type": "execute_result"
    }
   ],
   "source": [
    "m = len(phrase)\n",
    "n = len(key)\n",
    "l = m % n\n",
    "\n",
    "if l < n:\n",
    "    for i in range(n-l):\n",
    "        phrase.append('a')\n",
    "\n",
    "blocks = [phrase[i:i+n] for i in range(0, len(phrase), n)]\n",
    "blocks"
   ]
  },
  {
   "cell_type": "code",
   "execution_count": 3,
   "metadata": {},
   "outputs": [],
   "source": [
    "alphabet = []\n",
    "\n",
    "for j in range(n):\n",
    "    alphabet.append(ord(key[j]))\n",
    "    \n",
    "new_alphabet = sorted(range(len(alphabet)), key=alphabet.__getitem__)"
   ]
  },
  {
   "cell_type": "code",
   "execution_count": 4,
   "metadata": {},
   "outputs": [],
   "source": [
    "word = []\n",
    "\n",
    "for g in range(n):\n",
    "    for h in range(int(len(phrase)/len(key))):\n",
    "        word.append(blocks[h][new_alphabet[g]])"
   ]
  },
  {
   "cell_type": "code",
   "execution_count": 5,
   "metadata": {},
   "outputs": [
    {
     "name": "stdout",
     "output_type": "stream",
     "text": [
      "еенпнзоатаьовокннеьвлдирияцтиa\n"
     ]
    }
   ],
   "source": [
    "print(''.join(word))"
   ]
  }
 ],
 "metadata": {
  "kernelspec": {
   "display_name": "Python 3",
   "language": "python",
   "name": "python3"
  },
  "language_info": {
   "codemirror_mode": {
    "name": "ipython",
    "version": 3
   },
   "file_extension": ".py",
   "mimetype": "text/x-python",
   "name": "python",
   "nbconvert_exporter": "python",
   "pygments_lexer": "ipython3",
   "version": "3.8.5"
  }
 },
 "nbformat": 4,
 "nbformat_minor": 4
}
