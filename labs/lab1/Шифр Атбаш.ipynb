{
 "cells": [
  {
   "cell_type": "code",
   "execution_count": 1,
   "metadata": {},
   "outputs": [
    {
     "name": "stdout",
     "output_type": "stream",
     "text": [
      "Введите текст: привет\n"
     ]
    }
   ],
   "source": [
    "phrase = input('Введите текст: ')\n",
    "phrase = list(phrase)"
   ]
  },
  {
   "cell_type": "code",
   "execution_count": 2,
   "metadata": {},
   "outputs": [],
   "source": [
    "aphabet = list()\n",
    "for i in range(1072,1104):\n",
    "    aphabet.append(chr(i))\n",
    "aphabet.append(chr(32))\n",
    "    \n",
    "encrypted_phrase = list()\n",
    "for j in range(len(phrase)):\n",
    "    number = len(aphabet) - aphabet.index(phrase[j]) - 1\n",
    "    encrypted_phrase.append(aphabet[number])    "
   ]
  },
  {
   "cell_type": "code",
   "execution_count": 3,
   "metadata": {},
   "outputs": [
    {
     "name": "stdout",
     "output_type": "stream",
     "text": [
      "сршюыо\n"
     ]
    }
   ],
   "source": [
    "print(''.join(encrypted_phrase))"
   ]
  },
  {
   "cell_type": "code",
   "execution_count": null,
   "metadata": {},
   "outputs": [],
   "source": []
  }
 ],
 "metadata": {
  "kernelspec": {
   "display_name": "Python 3",
   "language": "python",
   "name": "python3"
  },
  "language_info": {
   "codemirror_mode": {
    "name": "ipython",
    "version": 3
   },
   "file_extension": ".py",
   "mimetype": "text/x-python",
   "name": "python",
   "nbconvert_exporter": "python",
   "pygments_lexer": "ipython3",
   "version": "3.8.5"
  }
 },
 "nbformat": 4,
 "nbformat_minor": 4
}
