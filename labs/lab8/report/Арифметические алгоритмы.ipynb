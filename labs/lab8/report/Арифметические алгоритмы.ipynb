{
 "cells": [
  {
   "cell_type": "code",
   "execution_count": 1,
   "metadata": {},
   "outputs": [],
   "source": [
    "import numpy as np"
   ]
  },
  {
   "cell_type": "code",
   "execution_count": 2,
   "metadata": {},
   "outputs": [],
   "source": [
    "def remove_zeros(w):        \n",
    "        z = 0\n",
    "        while w[z] == 0:\n",
    "            z = z + 1\n",
    "        return(w[z:])"
   ]
  },
  {
   "cell_type": "code",
   "execution_count": 3,
   "metadata": {},
   "outputs": [
    {
     "name": "stdout",
     "output_type": "stream",
     "text": [
      "34\n"
     ]
    }
   ],
   "source": [
    "#Алгоритм 1\n",
    "def a1(uu,vv,b):\n",
    "    \n",
    "    u = [int(i) for i in str(uu)]\n",
    "    v = [int(i) for i in str(vv)]\n",
    "    l = len(u)\n",
    "    w = []\n",
    "    n = len(u) - 1\n",
    "\n",
    "    j = n\n",
    "    k = 0\n",
    "    while j != -1:\n",
    "        w.append((u[j] + v[j] + k) % b)\n",
    "        k = (u[j] + v[j] + k) // b\n",
    "        j = j - 1\n",
    "    if k != 0:\n",
    "        w.append(k)\n",
    "    w.reverse()\n",
    "    return print(''.join(str(i) for i in remove_zeros(w)))\n",
    "a1(23, 11, 10)"
   ]
  },
  {
   "cell_type": "code",
   "execution_count": 4,
   "metadata": {},
   "outputs": [
    {
     "name": "stdout",
     "output_type": "stream",
     "text": [
      "35\n"
     ]
    }
   ],
   "source": [
    "#Алгоритм 2\n",
    "def a2(uu,vv,b):\n",
    "    u = [int(i) for i in str(uu)]\n",
    "    v = [int(i) for i in str(vv)]\n",
    "    l = len(u)\n",
    "    w = []\n",
    "    n = len(u) - 1\n",
    "    \n",
    "    j = n\n",
    "    k = 0\n",
    "    while j != -1:\n",
    "        w.append((u[j] - v[j] + k) % b)\n",
    "        k = (u[j] - v[j] + k) // b\n",
    "        j = j - 1\n",
    "    w.reverse()\n",
    "    return print(''.join(str(i) for i in remove_zeros(w)))\n",
    "\n",
    "a2(2035, 2000, 10)"
   ]
  },
  {
   "cell_type": "code",
   "execution_count": 5,
   "metadata": {},
   "outputs": [
    {
     "name": "stdout",
     "output_type": "stream",
     "text": [
      "1627112\n"
     ]
    }
   ],
   "source": [
    "#Алгоритм 3\n",
    "def a3(uu,vv,b):\n",
    "    u = [int(i) for i in str(uu)]\n",
    "    v = [int(i) for i in str(vv)]\n",
    "    n = len(u) - 1\n",
    "    m = len(v) - 1\n",
    "    j = m\n",
    "    w = [0] * (len(u) + len(v))\n",
    "    while j >= 0:\n",
    "        if v[j] == 0:\n",
    "            w[j] == 0\n",
    "            j = j - 1\n",
    "        else:\n",
    "            i = n\n",
    "            k = 0\n",
    "            while i >= 0:\n",
    "                t = u[i] * v[j] + w[i + j + 1] + k\n",
    "                w[i + j + 1] = t % b\n",
    "                k = t // b\n",
    "                i = i - 1\n",
    "            w[j] = k\n",
    "            j = j - 1\n",
    "        z = 0\n",
    "        while w[z] == 0:\n",
    "            z = z + 1\n",
    "    return print(''.join(str(i) for i in remove_zeros(w)))\n",
    "a3(5497, 296, 10)                "
   ]
  },
  {
   "cell_type": "code",
   "execution_count": 6,
   "metadata": {},
   "outputs": [
    {
     "name": "stdout",
     "output_type": "stream",
     "text": [
      "1627112\n"
     ]
    }
   ],
   "source": [
    "#Алгоритм 4\n",
    "def a4(uu,vv,b):\n",
    "    u = [int(i) for i in str(uu)]\n",
    "    v = [int(i) for i in str(vv)]\n",
    "    n = len(u) - 1\n",
    "    m = len(v) - 1\n",
    "    w = [0] * (len(u) + len(v))\n",
    "    \n",
    "    t = 0\n",
    "    for s in range(m + n + 2):\n",
    "        for i in range(s + 1):\n",
    "            if (n - i < 0) or (m - s + i < 0):\n",
    "                t = t\n",
    "            else:\n",
    "                t = t + u[n - i] * v[m - s + i]\n",
    "        w[m + n - s + 1] = t % b\n",
    "        t = t // b\n",
    "    return print(''.join(str(i) for i in remove_zeros(w)))\n",
    "\n",
    "a4(5497, 296, 10)"
   ]
  },
  {
   "cell_type": "code",
   "execution_count": 7,
   "metadata": {},
   "outputs": [
    {
     "name": "stdout",
     "output_type": "stream",
     "text": [
      "Частное = 4926 Остаток = 435\n"
     ]
    }
   ],
   "source": [
    "#Алгоритм 5\n",
    "def a5(uu,vv,b):\n",
    "    u = uu\n",
    "    v = vv\n",
    "    \n",
    "    n = len([int(i) for i in str(uu)]) - 1\n",
    "    t = len([int(i) for i in str(vv)]) - 1\n",
    "    q = [0] * (n - t + 1)\n",
    "    r = [0] * (t + 1)\n",
    "    \n",
    "    \n",
    "    while u >= v * b ** (n - t):\n",
    "        q[n-t] = q[n-t] + 1\n",
    "        u = u - v * b ** (n - t)\n",
    "\n",
    "    n = len([int(i) for i in str(u)]) - 1\n",
    "    t = len([int(i) for i in str(v)]) - 1\n",
    "        \n",
    "    for i in range(n, t, -1):\n",
    "        u_ = [int(i) for i in str(u)]\n",
    "        u_.reverse()\n",
    "        v_ = [int(i) for i in str(v)]\n",
    "        v_.reverse()\n",
    "        \n",
    "        if u_[i] >= v_[t]:\n",
    "            q[i-t-1] = b - 1\n",
    "        else:\n",
    "            q[i-t-1] = (u_[i] * b + u_[i-1]) // v_[t]\n",
    "            \n",
    "        while q[i-t-1] * (v_[t] * b + v_[t-1]) > u_[i] * b ** 2 + u_[i-1] * b + u_[i-2]:\n",
    "            q[i-t-1] = q[i-t-1] - 1\n",
    "        u = u - q[i-t-1] * b ** (i - t - 1) * v\n",
    "\n",
    "        if u < 0:\n",
    "            u = u + v * b ** (i-t-1)\n",
    "            q[i-t-1] = q[i-t-1] - 1\n",
    "    \n",
    "    q.reverse()\n",
    "    return print('Частное =', ''.join(str(i) for i in remove_zeros(q)), 'Остаток =', u)\n",
    "\n",
    "a5(389725851, 79116, 10)"
   ]
  }
 ],
 "metadata": {
  "kernelspec": {
   "display_name": "Python 3",
   "language": "python",
   "name": "python3"
  },
  "language_info": {
   "codemirror_mode": {
    "name": "ipython",
    "version": 3
   },
   "file_extension": ".py",
   "mimetype": "text/x-python",
   "name": "python",
   "nbconvert_exporter": "python",
   "pygments_lexer": "ipython3",
   "version": "3.8.5"
  }
 },
 "nbformat": 4,
 "nbformat_minor": 4
}
