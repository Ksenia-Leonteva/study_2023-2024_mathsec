{
 "cells": [
  {
   "cell_type": "code",
   "execution_count": 1,
   "metadata": {},
   "outputs": [],
   "source": [
    "import numpy as np\n",
    "import math"
   ]
  },
  {
   "cell_type": "code",
   "execution_count": 2,
   "metadata": {},
   "outputs": [],
   "source": [
    "word = 'приказ'\n",
    "gamma = 'гамма'\n",
    "word = list(word.replace(\" \", \"\"))\n",
    "gamma = list(gamma)\n",
    "\n",
    "alphabet = []\n",
    "for i in range(1072,1104):\n",
    "    alphabet.append(chr(i))"
   ]
  },
  {
   "cell_type": "code",
   "execution_count": 3,
   "metadata": {},
   "outputs": [],
   "source": [
    "gamma_new = []\n",
    "\n",
    "if len(word) > len (gamma):\n",
    "    for i in range(math.floor(len(word)/len(gamma))):\n",
    "        gamma_new.append(gamma)\n",
    "    sum(gamma_new, [])\n",
    "    for j in range(len(word)%len(gamma)):\n",
    "        gamma_new.append(list(gamma[j]))\n",
    "\n",
    "if len(word) < len (gamma):\n",
    "    for g in range(len(word)):\n",
    "        gamma_new.append(list(gamma[g]))\n",
    "        \n",
    "gamma_new = sum(gamma_new,[])"
   ]
  },
  {
   "cell_type": "code",
   "execution_count": 4,
   "metadata": {},
   "outputs": [],
   "source": [
    "number_word = []\n",
    "number_gamma_new = []\n",
    "for i in range(len(word)):\n",
    "    number_word.append(alphabet.index(word[i])+1)\n",
    "    number_gamma_new.append(alphabet.index(gamma_new[i])+1)"
   ]
  },
  {
   "cell_type": "code",
   "execution_count": 5,
   "metadata": {},
   "outputs": [],
   "source": [
    "chipher = []\n",
    "for i in range(len(word)):\n",
    "    k = (number_word[i] + number_gamma_new[i])%32\n",
    "    chipher.append(alphabet[k-1])"
   ]
  },
  {
   "cell_type": "code",
   "execution_count": 6,
   "metadata": {},
   "outputs": [
    {
     "name": "stdout",
     "output_type": "stream",
     "text": [
      "усхчбл\n"
     ]
    }
   ],
   "source": [
    "print(''.join(chipher))"
   ]
  }
 ],
 "metadata": {
  "kernelspec": {
   "display_name": "Python 3",
   "language": "python",
   "name": "python3"
  },
  "language_info": {
   "codemirror_mode": {
    "name": "ipython",
    "version": 3
   },
   "file_extension": ".py",
   "mimetype": "text/x-python",
   "name": "python",
   "nbconvert_exporter": "python",
   "pygments_lexer": "ipython3",
   "version": "3.8.5"
  }
 },
 "nbformat": 4,
 "nbformat_minor": 4
}
