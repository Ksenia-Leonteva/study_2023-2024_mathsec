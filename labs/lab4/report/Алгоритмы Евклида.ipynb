{
 "cells": [
  {
   "cell_type": "markdown",
   "metadata": {},
   "source": [
    "1. Алгоритм Евклида"
   ]
  },
  {
   "cell_type": "code",
   "execution_count": 1,
   "metadata": {},
   "outputs": [
    {
     "name": "stdout",
     "output_type": "stream",
     "text": [
      "НОД ( 54321 , 12345 ) = 3\n"
     ]
    }
   ],
   "source": [
    "a = 54321\n",
    "b = 12345\n",
    "r = -1\n",
    "\n",
    "if a >= b:\n",
    "    r0 = a\n",
    "    r1 = b\n",
    "else:\n",
    "    r0 = b\n",
    "    r1 = a\n",
    "\n",
    "while r != 0:\n",
    "    r = r0 % r1\n",
    "    r0 = r1\n",
    "    r1 = r\n",
    "    \n",
    "print('НОД (',a,',',b, ') =', r0)"
   ]
  },
  {
   "cell_type": "markdown",
   "metadata": {},
   "source": [
    "2. Бинарный алгоритм Евклида"
   ]
  },
  {
   "cell_type": "code",
   "execution_count": 2,
   "metadata": {},
   "outputs": [
    {
     "name": "stdout",
     "output_type": "stream",
     "text": [
      "НОД ( 3400 , 1260 ) = 20.0\n"
     ]
    }
   ],
   "source": [
    "aa = 3400\n",
    "bb = 1260\n",
    "g = 1\n",
    "\n",
    "if aa >= bb:\n",
    "    a = aa\n",
    "    b = bb\n",
    "else:\n",
    "    a = bb\n",
    "    b = aa\n",
    "\n",
    "while (a % 2 == 0) and (b % 2 == 0):\n",
    "    a = a / 2\n",
    "    b = b / 2\n",
    "    g = 2 * g\n",
    "    \n",
    "u = a\n",
    "v = b\n",
    "\n",
    "while u != 0:\n",
    "    while u % 2 ==0:\n",
    "        u = u / 2\n",
    "    while v % 2 == 0:\n",
    "        v = v / 2 \n",
    "    if u >= v:\n",
    "        u = u - v\n",
    "    else:\n",
    "        v = v - u\n",
    "\n",
    "print('НОД (',aa,',',bb, ') =', g*v)"
   ]
  },
  {
   "cell_type": "markdown",
   "metadata": {},
   "source": [
    "3. Расширенный алгоритм Евклида"
   ]
  },
  {
   "cell_type": "code",
   "execution_count": 3,
   "metadata": {},
   "outputs": [
    {
     "name": "stdout",
     "output_type": "stream",
     "text": [
      "НОД ( 3400 , 1260 ) = 20\n",
      "x = -10\n",
      "y = 27\n"
     ]
    }
   ],
   "source": [
    "a = 3400\n",
    "b = 1260\n",
    "r = -1\n",
    "\n",
    "if a >= b:\n",
    "    r0 = a\n",
    "    r1 = b\n",
    "else:\n",
    "    r0 = b\n",
    "    r1 = a\n",
    "    \n",
    "x0 = 1\n",
    "x1 = 0\n",
    "y0 = 0\n",
    "y1 = 1\n",
    "\n",
    "while r != 0:\n",
    "    r = r0 % r1\n",
    "    q = int((r0 - r) / r1)\n",
    "    r0 = r1\n",
    "    r1 = r\n",
    "    \n",
    "    x_new = x0 - q * x1\n",
    "    x0 = x1\n",
    "    x1 = x_new\n",
    "    y_new = y0 - q * y1\n",
    "    y0 = y1\n",
    "    y1 = y_new\n",
    "\n",
    "print('НОД (',a,',',b, ') =', r0)\n",
    "print('x =', x0)\n",
    "print('y =', y0)"
   ]
  },
  {
   "cell_type": "markdown",
   "metadata": {},
   "source": [
    "4. Расширенный бинарный алгоритм Евклида"
   ]
  },
  {
   "cell_type": "code",
   "execution_count": 4,
   "metadata": {},
   "outputs": [
    {
     "name": "stdout",
     "output_type": "stream",
     "text": [
      "НОД ( 3400 , 1260 ) = 20.0\n",
      "x = -10.0\n",
      "y = 27.0\n"
     ]
    }
   ],
   "source": [
    "aa = 3400\n",
    "bb = 1260\n",
    "g = 1\n",
    "\n",
    "if aa >= bb:\n",
    "    a = aa\n",
    "    b = bb\n",
    "else:\n",
    "    a = bb\n",
    "    b = aa\n",
    "    \n",
    "while (a % 2 == 0) and (b % 2 == 0):\n",
    "    a = a / 2\n",
    "    b = b / 2\n",
    "    g = 2 * g\n",
    "    \n",
    "u = a\n",
    "v = b\n",
    "A = 1\n",
    "B = 0\n",
    "C = 0\n",
    "D = 1\n",
    "\n",
    "while u != 0 :\n",
    "    while u % 2 == 0:\n",
    "        u = u / 2\n",
    "        if (A % 2 == 0) and (B % 2 == 0):\n",
    "            A = A / 2\n",
    "            B = B / 2\n",
    "        else:\n",
    "            A = (A + b) / 2\n",
    "            B = (B - a) / 2\n",
    "    while v % 2 == 0:\n",
    "        v = v / 2\n",
    "        if (C % 2 == 0) and (D % 2 == 0):\n",
    "            C = C / 2\n",
    "            D = D / 2\n",
    "        else:\n",
    "            C = (C + b) / 2\n",
    "            D = (D - a) / 2\n",
    "    if u >= v:\n",
    "        u = u - v\n",
    "        A = A - C\n",
    "        B = B - D\n",
    "    else:\n",
    "        v = v - u\n",
    "        C = C - A\n",
    "        D = D - B\n",
    "        \n",
    "print('НОД (',aa,',',bb, ') =', g*v)\n",
    "print('x =', C)\n",
    "print('y =', D)"
   ]
  }
 ],
 "metadata": {
  "kernelspec": {
   "display_name": "Python 3",
   "language": "python",
   "name": "python3"
  },
  "language_info": {
   "codemirror_mode": {
    "name": "ipython",
    "version": 3
   },
   "file_extension": ".py",
   "mimetype": "text/x-python",
   "name": "python",
   "nbconvert_exporter": "python",
   "pygments_lexer": "ipython3",
   "version": "3.8.5"
  }
 },
 "nbformat": 4,
 "nbformat_minor": 4
}
