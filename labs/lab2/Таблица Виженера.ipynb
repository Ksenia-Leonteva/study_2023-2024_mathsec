{
 "cells": [
  {
   "cell_type": "code",
   "execution_count": 1,
   "metadata": {},
   "outputs": [],
   "source": [
    "import math"
   ]
  },
  {
   "cell_type": "code",
   "execution_count": 2,
   "metadata": {},
   "outputs": [],
   "source": [
    "phrase = 'криптография серьезная наука'\n",
    "key = 'математика'\n",
    "phrase = list(phrase.replace(\" \", \"\"))\n",
    "key = list(key)"
   ]
  },
  {
   "cell_type": "code",
   "execution_count": 3,
   "metadata": {},
   "outputs": [],
   "source": [
    "alphabet = []\n",
    "for i in range(1072, 1104):\n",
    "    alphabet.append(chr(i))\n",
    "    \n",
    "table = list()\n",
    "for i in range(len(alphabet)):\n",
    "    table.append(alphabet[i:] + alphabet[:i])"
   ]
  },
  {
   "cell_type": "code",
   "execution_count": 4,
   "metadata": {},
   "outputs": [],
   "source": [
    "k = math.floor(len(phrase)/len(key))\n",
    "key_list = []\n",
    "for j in range(k):\n",
    "    key_list.append(key)\n",
    "m = len(phrase) % len(key)\n",
    "part_key = key[:m]\n",
    "key_list.append(part_key)\n",
    "key_list = sum(key_list, [])"
   ]
  },
  {
   "cell_type": "code",
   "execution_count": 5,
   "metadata": {},
   "outputs": [],
   "source": [
    "cipher = []\n",
    "for g in range(len(phrase)):\n",
    "    cipher.append( table[alphabet.index(phrase[g])][alphabet.index(key_list[g])] )"
   ]
  },
  {
   "cell_type": "code",
   "execution_count": 6,
   "metadata": {},
   "outputs": [
    {
     "name": "stdout",
     "output_type": "stream",
     "text": [
      "цръфюохшкффягкььчпчалнтшца\n"
     ]
    }
   ],
   "source": [
    "print(''.join(cipher))"
   ]
  }
 ],
 "metadata": {
  "kernelspec": {
   "display_name": "Python 3",
   "language": "python",
   "name": "python3"
  },
  "language_info": {
   "codemirror_mode": {
    "name": "ipython",
    "version": 3
   },
   "file_extension": ".py",
   "mimetype": "text/x-python",
   "name": "python",
   "nbconvert_exporter": "python",
   "pygments_lexer": "ipython3",
   "version": "3.8.5"
  }
 },
 "nbformat": 4,
 "nbformat_minor": 4
}
