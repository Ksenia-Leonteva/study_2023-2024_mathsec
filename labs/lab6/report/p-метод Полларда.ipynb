{
 "cells": [
  {
   "cell_type": "code",
   "execution_count": 2,
   "metadata": {},
   "outputs": [
    {
     "name": "stdout",
     "output_type": "stream",
     "text": [
      "Итерация 1   a = 6   b = 41   d = 1\n",
      "Итерация 2   a = 41   b = 123939   d = 1\n",
      "Итерация 3   a = 1686   b = 391594   d = 1\n",
      "Итерация 4   a = 123939   b = 438157   d = 1\n",
      "Итерация 5   a = 435426   b = 582738   d = 1\n",
      "Итерация 6   a = 391594   b = 1144026   d = 1\n",
      "Итерация 7   a = 1090062   b = 885749   d = 1181\n",
      "Нетривиальный делитель числа 1359331 равен 1181\n"
     ]
    }
   ],
   "source": [
    "import numpy as np\n",
    "import math\n",
    "\n",
    "def f(x, n):\n",
    "    return (x ** 2 + 5) % n\n",
    "\n",
    "n = 1359331\n",
    "a = b = 1\n",
    "d = 1\n",
    "i = 0\n",
    "while d == 1:\n",
    "    a = f(a,n)\n",
    "    b = f(f(b,n),n)\n",
    "    d = math.gcd(a - b, n)\n",
    "    print('Итерация', i+1, ' ', 'a =',a, ' ', 'b =',b, ' ', 'd =',d)\n",
    "    i = i + 1\n",
    "if d == n:\n",
    "    print('Делитель не найден')\n",
    "else:\n",
    "    print('Нетривиальный делитель числа', n, 'равен', d)"
   ]
  }
 ],
 "metadata": {
  "kernelspec": {
   "display_name": "Python 3",
   "language": "python",
   "name": "python3"
  },
  "language_info": {
   "codemirror_mode": {
    "name": "ipython",
    "version": 3
   },
   "file_extension": ".py",
   "mimetype": "text/x-python",
   "name": "python",
   "nbconvert_exporter": "python",
   "pygments_lexer": "ipython3",
   "version": "3.8.5"
  }
 },
 "nbformat": 4,
 "nbformat_minor": 4
}
