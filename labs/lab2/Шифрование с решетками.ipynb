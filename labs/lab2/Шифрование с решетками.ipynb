{
 "cells": [
  {
   "cell_type": "code",
   "execution_count": 1,
   "metadata": {},
   "outputs": [],
   "source": [
    "import numpy as np"
   ]
  },
  {
   "cell_type": "code",
   "execution_count": 2,
   "metadata": {},
   "outputs": [],
   "source": [
    "a_1 = np.array([[1,2],[3,4]])\n",
    "a_2 = np.rot90(a_1, 3)\n",
    "a_3 = np.rot90(a_2, 6)\n",
    "a_4 = np.rot90(a_3, 1)\n",
    "a_12 = np.concatenate ( (a_1, a_2), axis = 1 )\n",
    "a_34 = np.concatenate ( (a_3, a_4), axis = 1 )\n",
    "a = np.concatenate((a_12, a_34), axis = 0)\n",
    "aa = np.concatenate((a[0], a[1], a[2], a[3]), axis = 0)\n",
    "\n",
    "for i in range(4):\n",
    "    exec(f\"i{i+1} = [j for j in range(0, len(aa)) if aa[j]==i+1]\")\n",
    "    exec(f\"ind{i+1} = np.random.randint(0,4)\")\n",
    "    exec(f\"aa[i{i+1}[ind{i+1}]] = -1\")\n",
    "\n",
    "for i in range(len(aa)):\n",
    "    if aa[i] != -1:\n",
    "        aa[i] = 0\n",
    "        \n",
    "aaa = aa.tolist()"
   ]
  },
  {
   "cell_type": "code",
   "execution_count": 3,
   "metadata": {},
   "outputs": [
    {
     "data": {
      "text/plain": [
       "[[0, 0, 0, 0], [0, 0, 0, -1], [0, 0, -1, 0], [0, -1, 0, -1]]"
      ]
     },
     "execution_count": 3,
     "metadata": {},
     "output_type": "execute_result"
    }
   ],
   "source": [
    "m = [aaa[i:i+4] for i in range(0, len(aa), 4)]\n",
    "k = [[0,0,0,0],[0,0,0,0],[0,0,0,0],[0,0,0,0]]\n",
    "phrase = list('договорподписали')\n",
    "key = list('шифр')\n",
    "\n",
    "indices = []\n",
    "\n",
    "m"
   ]
  },
  {
   "cell_type": "code",
   "execution_count": 4,
   "metadata": {},
   "outputs": [],
   "source": [
    "while any(0 in s for s in k) == True:\n",
    "    for i in range(len(m)):\n",
    "        for j in range(len(m)):\n",
    "            if m[i][j] == -1:\n",
    "                indices.append([i, j])\n",
    "        \n",
    "    for i in range(4):\n",
    "        k[indices[i][0]][indices[i][1]] = phrase[0]\n",
    "        phrase = phrase[1:]\n",
    "    \n",
    "    m = np.rot90(m, 3)\n",
    "    \n",
    "    indices = []"
   ]
  },
  {
   "cell_type": "code",
   "execution_count": 5,
   "metadata": {},
   "outputs": [
    {
     "data": {
      "text/plain": [
       "[['о', 'с', 'д', 'а'],\n",
       " ['в', 'п', 'л', 'д'],\n",
       " ['и', 'о', 'о', 'и'],\n",
       " ['р', 'г', 'п', 'о']]"
      ]
     },
     "execution_count": 5,
     "metadata": {},
     "output_type": "execute_result"
    }
   ],
   "source": [
    "k"
   ]
  },
  {
   "cell_type": "code",
   "execution_count": 6,
   "metadata": {},
   "outputs": [],
   "source": [
    "alph = []\n",
    "\n",
    "for j in range(len(key)):\n",
    "    alph.append(ord(key[j]))\n",
    "    \n",
    "new_alph = sorted(range(len(alph)), key=alph.__getitem__)"
   ]
  },
  {
   "cell_type": "code",
   "execution_count": 7,
   "metadata": {},
   "outputs": [],
   "source": [
    "word = []\n",
    "\n",
    "for g in range(len(key)):\n",
    "    for h in range(len(m)):\n",
    "        word.append(k[h][new_alph[g]])"
   ]
  },
  {
   "cell_type": "code",
   "execution_count": 8,
   "metadata": {},
   "outputs": [
    {
     "name": "stdout",
     "output_type": "stream",
     "text": [
      "спогадиодлоповир\n"
     ]
    }
   ],
   "source": [
    "print(''.join(word))"
   ]
  }
 ],
 "metadata": {
  "kernelspec": {
   "display_name": "Python 3",
   "language": "python",
   "name": "python3"
  },
  "language_info": {
   "codemirror_mode": {
    "name": "ipython",
    "version": 3
   },
   "file_extension": ".py",
   "mimetype": "text/x-python",
   "name": "python",
   "nbconvert_exporter": "python",
   "pygments_lexer": "ipython3",
   "version": "3.8.5"
  }
 },
 "nbformat": 4,
 "nbformat_minor": 4
}
