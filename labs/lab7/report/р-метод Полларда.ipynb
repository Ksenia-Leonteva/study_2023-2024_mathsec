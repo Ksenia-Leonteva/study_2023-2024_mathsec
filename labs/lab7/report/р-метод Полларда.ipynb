{
 "cells": [
  {
   "cell_type": "code",
   "execution_count": 68,
   "metadata": {},
   "outputs": [
    {
     "name": "stdout",
     "output_type": "stream",
     "text": [
      "  c     |  log_a(c)  |     d    |   log_a(d)\n",
      "---------------------------------------------\n",
      "c = 4  |   2 + 2 x  |   d = 4  |   2 + 2 x\n",
      "c = 40  |   3 + 2 x  |   d = 79  |   4 + 2 x\n",
      "c = 79  |   4 + 2 x  |   d = 56  |   5 + 3 x\n",
      "c = 27  |   4 + 3 x  |   d = 75  |   5 + 5 x\n",
      "c = 56  |   5 + 3 x  |   d = 3  |   5 + 7 x\n",
      "c = 53  |   5 + 4 x  |   d = 86  |   7 + 7 x\n",
      "c = 75  |   5 + 5 x  |   d = 42  |   8 + 8 x\n",
      "c = 92  |   5 + 6 x  |   d = 23  |   9 + 9 x\n",
      "c = 3  |   5 + 7 x  |   d = 53  |   11 + 9 x\n",
      "c = 30  |   6 + 7 x  |   d = 92  |   11 + 11 x\n",
      "c = 86  |   7 + 7 x  |   d = 30  |   12 + 12 x\n",
      "c = 47  |   7 + 8 x  |   d = 47  |   13 + 13 x\n",
      " \n",
      "Показатель х = 20\n"
     ]
    }
   ],
   "source": [
    "import numpy as np\n",
    "import math\n",
    "\n",
    "a = 10\n",
    "b = 64\n",
    "p = 107\n",
    "\n",
    "def f(x, u, v):\n",
    "    if x < r:\n",
    "        return (a * x) % p, u + 1, v\n",
    "    if x >= r:\n",
    "        return (b * x) % p, u, v + 1\n",
    "    \n",
    "def r(a,p):\n",
    "    r = 1\n",
    "    while (a**r - 1) % p != 0:\n",
    "        r = r + 1\n",
    "    return r\n",
    "\n",
    "u = 2\n",
    "v = 2\n",
    "r = r(a, p)\n",
    "\n",
    "c = (a**u * b**v) % p\n",
    "d = c\n",
    "\n",
    "u_c = u\n",
    "u_d = u\n",
    "v_c = v\n",
    "v_d = v\n",
    "    \n",
    "print('  c', '    | ', 'log_a(c)', ' |   ', ' d', '   |  ', 'log_a(d)')\n",
    "print('---------------------------------------------')\n",
    "print('c =', c, ' |  ', u_c, '+', v_c, 'x', ' |  ', 'd =', d, ' |  ', u_d, '+', v_d, 'x')\n",
    "\n",
    "c, u_c, v_c = f(c, u_c, v_c)\n",
    "d, u_d, v_d = f(f(d, u_d, v_d)[0], f(d, u_d, v_d)[1], f(d, u_d, v_d)[2])\n",
    "   \n",
    "print('c =', c, ' |  ', u_c, '+', v_c, 'x', ' |  ', 'd =', d, ' |  ', u_d, '+', v_d, 'x')\n",
    "\n",
    "while c % p != d % p:\n",
    "    c, u_c, v_c = f(c, u_c, v_c)\n",
    "    d, u_d, v_d = f(f(d, u_d, v_d)[0], f(d, u_d, v_d)[1], f(d, u_d, v_d)[2])\n",
    "    \n",
    "    print('c =', c, ' |  ', u_c, '+', v_c, 'x', ' |  ', 'd =', d, ' |  ', u_d, '+', v_d, 'x')\n",
    "\n",
    "x = 1\n",
    "while (u_c + v_c * x) % r != (u_d + v_d * x) % r:\n",
    "    x = x + 1\n",
    "    \n",
    "print(' ')\n",
    "print('Показатель х =', x)"
   ]
  }
 ],
 "metadata": {
  "kernelspec": {
   "display_name": "Python 3",
   "language": "python",
   "name": "python3"
  },
  "language_info": {
   "codemirror_mode": {
    "name": "ipython",
    "version": 3
   },
   "file_extension": ".py",
   "mimetype": "text/x-python",
   "name": "python",
   "nbconvert_exporter": "python",
   "pygments_lexer": "ipython3",
   "version": "3.8.5"
  }
 },
 "nbformat": 4,
 "nbformat_minor": 4
}
